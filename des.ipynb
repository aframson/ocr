{
 "cells": [
  {
   "cell_type": "code",
   "execution_count": 1,
   "metadata": {},
   "outputs": [],
   "source": [
    "import pandas as pd\n",
    "import matplotlib.pyplot as plt\n",
    "import numpy as np\n",
    "import sklearn\n",
    "from sklearn import linear_model,preprocessing\n",
    "from sklearn.neighbors import KNeighborsClassifier\n",
    "from sklearn.utils import shuffle\n",
    "import pickle"
   ]
  },
  {
   "cell_type": "code",
   "execution_count": 3,
   "metadata": {},
   "outputs": [],
   "source": [
    "\n",
    "#import Data\n",
    "data = pd.read_csv(\"heart.csv\")\n",
    "\n",
    "d={'Presence':1,'Absence':0}\n",
    "\n",
    "dependent=data['Heart Disease'].map(d)\n",
    "\n",
    "data = data[['Age','Sex','Chest pain type','BP','Cholesterol','FBS over 120','EKG results','Max HR']]\n",
    "\n",
    "x=np.array(data)\n",
    "y=np.array(dependent)\n",
    "\n",
    "x_train, x_test, y_train, y_test = sklearn.model_selection.train_test_split(x, y, test_size=0.09)"
   ]
  },
  {
   "cell_type": "code",
   "execution_count": 4,
   "metadata": {},
   "outputs": [],
   "source": [
    "\n",
    "best=0\n",
    "#testing and training using actual data to know correlation btn them\n",
    "#test_size is the percentage used for testing the remaining goes to training\n",
    "for _ in range(1000):\n",
    "    x_train,x_test,y_train,y_test=sklearn.model_selection.train_test_split(x,y,test_size=0.1)\n",
    "    #use the linearRegression module\n",
    "    linear=KNeighborsClassifier(n_neighbors=7)\n",
    "    #minimizing error(gradient decent)\n",
    "    linear.fit(x_train,y_train)\n",
    "    #test the accuracy of the error\n",
    "    acc=linear.score(x_test,y_test)\n",
    "    if acc>best:\n",
    "        best=acc\n",
    "        with open('heartprediction.pickle','wb') as f:\n",
    "           pickle.dump(linear,f)"
   ]
  },
  {
   "cell_type": "code",
   "execution_count": 5,
   "metadata": {},
   "outputs": [
    {
     "name": "stdout",
     "output_type": "stream",
     "text": [
      "predicted: absense actual: [ 50   1   4 150 243   0   2 128] final presence\n",
      "predicted: absense actual: [ 44   1   3 120 226   0   0 169] final absense\n",
      "predicted: presence actual: [ 62   1   2 128 208   1   2 140] final absense\n",
      "predicted: absense actual: [ 52   1   2 134 201   0   0 158] final absense\n",
      "predicted: absense actual: [ 41   0   2 130 204   0   2 172] final absense\n",
      "predicted: presence actual: [ 60   1   4 117 230   1   0 160] final presence\n",
      "predicted: absense actual: [ 63   1   1 145 233   1   2 150] final absense\n",
      "predicted: presence actual: [ 70   1   4 145 174   0   0 125] final presence\n",
      "predicted: presence actual: [ 68   1   3 180 274   1   2 150] final presence\n",
      "predicted: presence actual: [ 67   1   4 100 299   0   2 125] final presence\n",
      "predicted: absense actual: [ 47   1   3 138 257   0   2 156] final absense\n",
      "predicted: presence actual: [ 52   1   1 152 298   1   0 178] final absense\n",
      "predicted: absense actual: [ 57   1   3 128 229   0   2 150] final presence\n",
      "predicted: absense actual: [ 52   1   2 120 325   0   0 172] final absense\n",
      "predicted: absense actual: [ 62   0   4 124 209   0   0 163] final absense\n",
      "predicted: presence actual: [ 64   0   4 130 303   0   0 122] final absense\n",
      "predicted: presence actual: [ 54   1   4 110 206   0   2 108] final presence\n",
      "predicted: absense actual: [ 45   0   4 138 236   0   2 152] final absense\n",
      "predicted: absense actual: [ 62   1   3 130 231   0   0 146] final absense\n",
      "predicted: absense actual: [ 49   1   2 130 266   0   0 171] final absense\n",
      "predicted: presence actual: [ 42   0   4 102 265   0   2 122] final absense\n",
      "predicted: presence actual: [ 67   1   4 120 229   0   2 129] final presence\n",
      "predicted: absense actual: [ 51   0   3 130 256   0   2 149] final absense\n",
      "predicted: presence actual: [ 65   0   4 150 225   0   2 114] final presence\n",
      "predicted: presence actual: [ 40   1   4 110 167   0   2 114] final presence\n",
      "predicted: absense actual: [ 42   1   3 120 240   1   0 194] final absense\n",
      "predicted: presence actual: [ 51   0   3 140 308   0   2 142] final absense\n"
     ]
    }
   ],
   "source": [
    "savedmodel=open('heartprediction.pickle', 'rb')\n",
    "newmodel=pickle.load(savedmodel)\n",
    "\n",
    "\n",
    "myvalues=[[149,14345,1]]\n",
    "\n",
    "predicted=newmodel.predict(x_test)\n",
    "names=['absense','presence']\n",
    "\n",
    "\n",
    "#loop through prediction to see if your data is corresponding well\n",
    "for x in range(len(predicted)):\n",
    "    print('predicted:',names[predicted[x]],'actual:',x_test[x],'final',names[y_test[x]])"
   ]
  }
 ],
 "metadata": {
  "kernelspec": {
   "display_name": "Python 3.10.8 64-bit",
   "language": "python",
   "name": "python3"
  },
  "language_info": {
   "codemirror_mode": {
    "name": "ipython",
    "version": 3
   },
   "file_extension": ".py",
   "mimetype": "text/x-python",
   "name": "python",
   "nbconvert_exporter": "python",
   "pygments_lexer": "ipython3",
   "version": "3.10.8"
  },
  "orig_nbformat": 4,
  "vscode": {
   "interpreter": {
    "hash": "aee8b7b246df8f9039afb4144a1f6fd8d2ca17a180786b69acc140d282b71a49"
   }
  }
 },
 "nbformat": 4,
 "nbformat_minor": 2
}
