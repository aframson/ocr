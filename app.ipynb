{
 "cells": [
  {
   "cell_type": "markdown",
   "metadata": {},
   "source": [
    "# School Recommendation system using pyhton "
   ]
  },
  {
   "cell_type": "markdown",
   "metadata": {},
   "source": [
    "# Import modules and libraries"
   ]
  },
  {
   "cell_type": "markdown",
   "metadata": {},
   "source": [
    "we have to use depoendencies or libraries to make to help accomplish these tasks , so below are the libraries that have been imported.\n",
    "\n",
    "- Pandas : for reading and data manupulation \n",
    "- skLearn : for machine learning algorithms \n",
    "- Mathplotlib : for plotting graphs "
   ]
  },
  {
   "cell_type": "code",
   "execution_count": 22,
   "metadata": {},
   "outputs": [],
   "source": [
    "import pandas as pd\n",
    "import matplotlib.pyplot as plt\n",
    "from sklearn import linear_model,preprocessing\n",
    "import sklearn\n",
    "from sklearn import linear_model,preprocessing\n",
    "from sklearn.neighbors import KNeighborsClassifier\n",
    "import pickle"
   ]
  },
  {
   "cell_type": "markdown",
   "metadata": {},
   "source": [
    "# Read the Data"
   ]
  },
  {
   "cell_type": "code",
   "execution_count": 23,
   "metadata": {},
   "outputs": [
    {
     "data": {
      "text/html": [
       "<div>\n",
       "<style scoped>\n",
       "    .dataframe tbody tr th:only-of-type {\n",
       "        vertical-align: middle;\n",
       "    }\n",
       "\n",
       "    .dataframe tbody tr th {\n",
       "        vertical-align: top;\n",
       "    }\n",
       "\n",
       "    .dataframe thead th {\n",
       "        text-align: right;\n",
       "    }\n",
       "</style>\n",
       "<table border=\"1\" class=\"dataframe\">\n",
       "  <thead>\n",
       "    <tr style=\"text-align: right;\">\n",
       "      <th></th>\n",
       "      <th>SCHOOL</th>\n",
       "      <th>PROGRAMME</th>\n",
       "      <th>FEES</th>\n",
       "      <th>LOCATION</th>\n",
       "    </tr>\n",
       "  </thead>\n",
       "  <tbody>\n",
       "    <tr>\n",
       "      <th>0</th>\n",
       "      <td>ASHESI</td>\n",
       "      <td>COMPUTER ENGINEERING</td>\n",
       "      <td>32739</td>\n",
       "      <td>ACCRA</td>\n",
       "    </tr>\n",
       "    <tr>\n",
       "      <th>1</th>\n",
       "      <td>ASHESI</td>\n",
       "      <td>MECHANICAL ENGINEERING</td>\n",
       "      <td>32739</td>\n",
       "      <td>ACCRA</td>\n",
       "    </tr>\n",
       "    <tr>\n",
       "      <th>2</th>\n",
       "      <td>ASHESI</td>\n",
       "      <td>ELECTRICAL AND ELECTRONIC ENGINERREING</td>\n",
       "      <td>32739</td>\n",
       "      <td>ACCRA</td>\n",
       "    </tr>\n",
       "    <tr>\n",
       "      <th>3</th>\n",
       "      <td>ASHESI</td>\n",
       "      <td>COMPUTER SCIENCE</td>\n",
       "      <td>32739</td>\n",
       "      <td>ACCRA</td>\n",
       "    </tr>\n",
       "    <tr>\n",
       "      <th>4</th>\n",
       "      <td>ASHESI</td>\n",
       "      <td>MANAGEMENT INFORMATION SYSTEM</td>\n",
       "      <td>32739</td>\n",
       "      <td>ACCRA</td>\n",
       "    </tr>\n",
       "    <tr>\n",
       "      <th>...</th>\n",
       "      <td>...</td>\n",
       "      <td>...</td>\n",
       "      <td>...</td>\n",
       "      <td>...</td>\n",
       "    </tr>\n",
       "    <tr>\n",
       "      <th>278</th>\n",
       "      <td>CENTRAL UNIVERSITYï¿½</td>\n",
       "      <td>Bachelor of Science in Information Technology</td>\n",
       "      <td>2940</td>\n",
       "      <td>ACCRA</td>\n",
       "    </tr>\n",
       "    <tr>\n",
       "      <th>279</th>\n",
       "      <td>CENTRAL UNIVERSITYï¿½</td>\n",
       "      <td>Bachelor of Science in Environmental Engineering</td>\n",
       "      <td>4425</td>\n",
       "      <td>ACCRA</td>\n",
       "    </tr>\n",
       "    <tr>\n",
       "      <th>280</th>\n",
       "      <td>CENTRAL UNIVERSITYï¿½</td>\n",
       "      <td>Bachelor of Science in Nursing</td>\n",
       "      <td>3869</td>\n",
       "      <td>ACCRA</td>\n",
       "    </tr>\n",
       "    <tr>\n",
       "      <th>281</th>\n",
       "      <td>CENTRAL UNIVERSITYï¿½</td>\n",
       "      <td>Bachelor of Science in Physician Assistantship</td>\n",
       "      <td>5176</td>\n",
       "      <td>ACCRA</td>\n",
       "    </tr>\n",
       "    <tr>\n",
       "      <th>282</th>\n",
       "      <td>CENTRAL UNIVERSITYï¿½</td>\n",
       "      <td>Bachelor of Science in Public Health</td>\n",
       "      <td>3652</td>\n",
       "      <td>ACCRA</td>\n",
       "    </tr>\n",
       "  </tbody>\n",
       "</table>\n",
       "<p>283 rows × 4 columns</p>\n",
       "</div>"
      ],
      "text/plain": [
       "                    SCHOOL                                         PROGRAMME  \\\n",
       "0                   ASHESI                              COMPUTER ENGINEERING   \n",
       "1                   ASHESI                            MECHANICAL ENGINEERING   \n",
       "2                   ASHESI            ELECTRICAL AND ELECTRONIC ENGINERREING   \n",
       "3                   ASHESI                                  COMPUTER SCIENCE   \n",
       "4                   ASHESI                     MANAGEMENT INFORMATION SYSTEM   \n",
       "..                     ...                                               ...   \n",
       "278  CENTRAL UNIVERSITYï¿½     Bachelor of Science in Information Technology   \n",
       "279  CENTRAL UNIVERSITYï¿½  Bachelor of Science in Environmental Engineering   \n",
       "280  CENTRAL UNIVERSITYï¿½                    Bachelor of Science in Nursing   \n",
       "281  CENTRAL UNIVERSITYï¿½    Bachelor of Science in Physician Assistantship   \n",
       "282  CENTRAL UNIVERSITYï¿½              Bachelor of Science in Public Health   \n",
       "\n",
       "      FEES LOCATION  \n",
       "0    32739    ACCRA  \n",
       "1    32739    ACCRA  \n",
       "2    32739    ACCRA  \n",
       "3    32739    ACCRA  \n",
       "4    32739    ACCRA  \n",
       "..     ...      ...  \n",
       "278   2940    ACCRA  \n",
       "279   4425    ACCRA  \n",
       "280   3869    ACCRA  \n",
       "281   5176    ACCRA  \n",
       "282   3652    ACCRA  \n",
       "\n",
       "[283 rows x 4 columns]"
      ]
     },
     "execution_count": 23,
     "metadata": {},
     "output_type": "execute_result"
    }
   ],
   "source": [
    "data = pd.read_csv('Dataset.csv',encoding = \"ISO-8859-1\") \n",
    "# utf encoding\n",
    "data"
   ]
  },
  {
   "cell_type": "markdown",
   "metadata": {},
   "source": [
    "# this is going to transfrom our non numerical value to numerical value"
   ]
  },
  {
   "cell_type": "code",
   "execution_count": 24,
   "metadata": {},
   "outputs": [],
   "source": [
    "#this is going to transfrom our non numerical value to numerical value\n",
    "le=preprocessing.LabelEncoder()"
   ]
  },
  {
   "cell_type": "code",
   "execution_count": 25,
   "metadata": {},
   "outputs": [],
   "source": [
    "#transforming texts to numerical \n",
    "# ashese 0\n",
    "# ucc 3   \n",
    "# tech 2\n",
    "# leg 4\n",
    "# centr 1"
   ]
  },
  {
   "cell_type": "markdown",
   "metadata": {},
   "source": [
    "# Plot school against Programme"
   ]
  },
  {
   "cell_type": "code",
   "execution_count": 26,
   "metadata": {},
   "outputs": [
    {
     "data": {
      "text/plain": [
       "<matplotlib.collections.PathCollection at 0x12cb2c0a0>"
      ]
     },
     "execution_count": 26,
     "metadata": {},
     "output_type": "execute_result"
    },
    {
     "data": {
      "image/png": "[encoded data removed]",
      "text/plain": [
       "<Figure size 640x480 with 1 Axes>"
      ]
     },
     "metadata": {},
     "output_type": "display_data"
    }
   ],
   "source": [
    "SCHOOL=le.fit_transform(list(data['SCHOOL']))\n",
    "PROGRAMME=le.fit_transform(list(data['PROGRAMME']))\n",
    "plt.scatter(PROGRAMME,SCHOOL)"
   ]
  },
  {
   "cell_type": "markdown",
   "metadata": {},
   "source": [
    "# Plot fees against school"
   ]
  },
  {
   "cell_type": "code",
   "execution_count": 27,
   "metadata": {},
   "outputs": [
    {
     "data": {
      "text/plain": [
       "<matplotlib.collections.PathCollection at 0x12cc718d0>"
      ]
     },
     "execution_count": 27,
     "metadata": {},
     "output_type": "execute_result"
    },
    {
     "data": {
      "image/png": "[encoded data removed]",
      "text/plain": [
       "<Figure size 640x480 with 1 Axes>"
      ]
     },
     "metadata": {},
     "output_type": "display_data"
    }
   ],
   "source": [
    "FEES=le.fit_transform(list(data['FEES']))\n",
    "FEES\n",
    "plt.scatter(FEES,SCHOOL)"
   ]
  },
  {
   "cell_type": "markdown",
   "metadata": {},
   "source": [
    "### According to the graph plotted it will be advisable to use a Knearest Neigbor Classifier"
   ]
  },
  {
   "cell_type": "markdown",
   "metadata": {},
   "source": [
    "# Predict Value\n",
    "### using the Knearest Neigbor Classifier"
   ]
  },
  {
   "cell_type": "markdown",
   "metadata": {},
   "source": []
  },
  {
   "cell_type": "code",
   "execution_count": 36,
   "metadata": {},
   "outputs": [
    {
     "name": "stdout",
     "output_type": "stream",
     "text": [
      "accuracy :  0.9615384615384616\n",
      "accuracy :  0.7307692307692307\n",
      "accuracy :  0.8461538461538461\n",
      "accuracy :  0.7692307692307693\n",
      "accuracy :  0.8076923076923077\n",
      "accuracy :  0.8846153846153846\n",
      "accuracy :  0.9230769230769231\n",
      "accuracy :  0.9615384615384616\n",
      "accuracy :  0.8846153846153846\n",
      "accuracy :  0.8461538461538461\n",
      "accuracy :  0.8846153846153846\n",
      "accuracy :  0.7307692307692307\n",
      "accuracy :  0.7692307692307693\n",
      "accuracy :  0.8076923076923077\n",
      "accuracy :  0.9230769230769231\n",
      "accuracy :  0.7692307692307693\n",
      "accuracy :  0.8076923076923077\n",
      "accuracy :  0.7692307692307693\n",
      "accuracy :  0.8076923076923077\n",
      "accuracy :  0.8461538461538461\n",
      "accuracy :  0.8846153846153846\n",
      "accuracy :  0.8461538461538461\n",
      "accuracy :  0.8461538461538461\n",
      "accuracy :  0.7692307692307693\n",
      "accuracy :  0.8076923076923077\n",
      "accuracy :  0.8076923076923077\n",
      "accuracy :  0.8846153846153846\n",
      "accuracy :  0.6923076923076923\n",
      "accuracy :  0.8846153846153846\n",
      "accuracy :  0.8846153846153846\n",
      "accuracy :  0.9230769230769231\n",
      "accuracy :  0.9615384615384616\n",
      "accuracy :  0.7692307692307693\n",
      "accuracy :  0.7692307692307693\n",
      "accuracy :  0.9615384615384616\n",
      "accuracy :  0.8846153846153846\n",
      "accuracy :  0.6923076923076923\n",
      "accuracy :  0.8076923076923077\n",
      "accuracy :  0.9230769230769231\n",
      "accuracy :  0.9230769230769231\n",
      "accuracy :  0.8076923076923077\n",
      "accuracy :  0.7692307692307693\n",
      "accuracy :  0.7307692307692307\n",
      "accuracy :  0.9230769230769231\n",
      "accuracy :  0.9615384615384616\n",
      "accuracy :  0.8076923076923077\n",
      "accuracy :  1.0\n",
      "accuracy :  0.8846153846153846\n",
      "accuracy :  0.8846153846153846\n",
      "accuracy :  0.8846153846153846\n",
      "accuracy :  0.8846153846153846\n",
      "accuracy :  0.8076923076923077\n",
      "accuracy :  0.8461538461538461\n",
      "accuracy :  0.9230769230769231\n",
      "accuracy :  0.8461538461538461\n",
      "accuracy :  0.8461538461538461\n",
      "accuracy :  0.9230769230769231\n",
      "accuracy :  0.7307692307692307\n",
      "accuracy :  0.8461538461538461\n",
      "accuracy :  0.9615384615384616\n",
      "accuracy :  0.7692307692307693\n",
      "accuracy :  0.8461538461538461\n",
      "accuracy :  1.0\n",
      "accuracy :  0.7307692307692307\n",
      "accuracy :  0.8076923076923077\n",
      "accuracy :  0.9615384615384616\n",
      "accuracy :  0.9230769230769231\n",
      "accuracy :  0.8461538461538461\n",
      "accuracy :  0.8076923076923077\n",
      "accuracy :  0.8846153846153846\n",
      "accuracy :  0.9230769230769231\n",
      "accuracy :  0.9230769230769231\n",
      "accuracy :  0.9230769230769231\n",
      "accuracy :  0.7692307692307693\n",
      "accuracy :  0.9230769230769231\n",
      "accuracy :  0.9230769230769231\n",
      "accuracy :  0.8846153846153846\n",
      "accuracy :  0.7692307692307693\n",
      "accuracy :  0.8076923076923077\n",
      "accuracy :  0.8846153846153846\n",
      "accuracy :  0.8846153846153846\n",
      "accuracy :  0.9230769230769231\n",
      "accuracy :  0.7692307692307693\n",
      "accuracy :  0.9230769230769231\n",
      "accuracy :  0.9230769230769231\n",
      "accuracy :  0.9230769230769231\n",
      "accuracy :  0.7692307692307693\n",
      "accuracy :  0.8846153846153846\n",
      "accuracy :  0.9230769230769231\n",
      "accuracy :  0.8076923076923077\n",
      "accuracy :  0.9230769230769231\n",
      "accuracy :  0.9230769230769231\n",
      "accuracy :  0.9615384615384616\n",
      "accuracy :  0.9230769230769231\n",
      "accuracy :  0.8846153846153846\n",
      "accuracy :  0.8846153846153846\n",
      "accuracy :  0.7692307692307693\n",
      "accuracy :  0.9615384615384616\n",
      "accuracy :  0.8846153846153846\n",
      "accuracy :  0.7692307692307693\n",
      "predicted: ucc\n"
     ]
    }
   ],
   "source": [
    "\n",
    "\n",
    "SCHOOL=le.fit_transform(list(data['SCHOOL']))\n",
    "PROGRAMME=le.fit_transform(list(data['PROGRAMME']))\n",
    "FEES=le.fit_transform(list(data['FEES']))\n",
    "LOCATION=le.fit_transform(list(data['LOCATION']))\n",
    "x=list(zip(PROGRAMME,FEES,LOCATION))\n",
    "y=list(SCHOOL)\n",
    "x_train,x_test,y_train,y_test=sklearn.model_selection.train_test_split(x,y,test_size=0.1)\n",
    "\n",
    "best=0\n",
    "for _ in range(100):\n",
    "    x_train,x_test,y_train,y_test=sklearn.model_selection.train_test_split(x,y,test_size=0.09)\n",
    "\n",
    "    #use the KNN module\n",
    "    model=KNeighborsClassifier(n_neighbors=5)\n",
    "\n",
    "    #minimizing error(gradient decent)\n",
    "    model.fit(x_train,y_train)\n",
    "\n",
    "\n",
    "\n",
    "\n",
    "    #test the accuracy of the error\n",
    "    acc=model.score(x_test,y_test)\n",
    "\n",
    "    print('accuracy : ',acc)\n",
    "\n",
    "    if acc>best:\n",
    "        best=acc\n",
    "        with open('studentmodel.pickle','wb') as f:\n",
    "           pickle.dump(model,f)\n",
    "\n",
    "\n",
    "savedmodel=open('studentmodel.pickle', 'rb')\n",
    "newmodel=pickle.load(savedmodel)\n",
    "\n",
    "fees = 1800\n",
    "location  = 4\n",
    "computerEnginnering  = 1\n",
    "\n",
    "\n",
    "myvalues=[[location,fees,computerEnginnering]]\n",
    "predicted=newmodel.predict(myvalues)\n",
    "names=['ashesi','central','tech','ucc','legon']\n",
    "\n",
    "\n",
    "#loop through prediction to see if your data is corresponding well\n",
    "for x in range(len(predicted)):\n",
    "    print('predicted:',names[predicted[x]])"
   ]
  }
 ],
 "metadata": {
  "kernelspec": {
   "display_name": "Python 3.10.8 64-bit",
   "language": "python",
   "name": "python3"
  },
  "language_info": {
   "codemirror_mode": {
    "name": "ipython",
    "version": 3
   },
   "file_extension": ".py",
   "mimetype": "text/x-python",
   "name": "python",
   "nbconvert_exporter": "python",
   "pygments_lexer": "ipython3",
   "version": "3.10.8"
  },
  "orig_nbformat": 4,
  "vscode": {
   "interpreter": {
    "hash": "aee8b7b246df8f9039afb4144a1f6fd8d2ca17a180786b69acc140d282b71a49"
   }
  }
 },
 "nbformat": 4,
 "nbformat_minor": 2
}
